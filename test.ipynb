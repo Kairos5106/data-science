{
 "cells": [
  {
   "cell_type": "markdown",
   "metadata": {},
   "source": [
    "# Phishing Site Predictor"
   ]
  },
  {
   "cell_type": "markdown",
   "metadata": {},
   "source": [
    "### Import Libraries"
   ]
  },
  {
   "cell_type": "code",
   "execution_count": 2,
   "metadata": {},
   "outputs": [],
   "source": [
    "import pandas as pd # use for data manipulation and analysis\n",
    "import numpy as np # use for multi-dimensional array and matrix\n",
    "import seaborn as sns # use for high-level interface for drawing attractive and informative statistical graphics\n",
    "import matplotlib.pyplot as plt # provide object-oriented API for embedding plots into applications\n",
    "%matplotlib inline\n",
    "\n",
    "from sklearn.linear_model import LogisticRegression\n",
    "\n",
    "from sklearn.model_selection import train_test_split\n",
    "from sklearn.metrics import classification_report\n",
    "from sklearn.metrics import confusion_matrix\n",
    "from nltk.tokenize import RegexpTokenizer\n",
    "from nltk.stem.snowball import SnowballStemmer\n",
    "from sklearn.feature_extraction.text import CountVectorizer\n",
    "from sklearn.pipeline import make_pipeline\n",
    "\n",
    "from PIL import Image\n",
    "from bs4 import BeautifulSoup"
   ]
  },
  {
   "cell_type": "markdown",
   "metadata": {},
   "source": [
    "### Loading Dataset"
   ]
  },
  {
   "cell_type": "code",
   "execution_count": 3,
   "metadata": {},
   "outputs": [],
   "source": [
    "phish_data = pd.read_csv('phishing_site_urls.csv')"
   ]
  },
  {
   "cell_type": "code",
   "execution_count": 4,
   "metadata": {},
   "outputs": [
    {
     "data": {
      "text/html": [
       "<div>\n",
       "<style scoped>\n",
       "    .dataframe tbody tr th:only-of-type {\n",
       "        vertical-align: middle;\n",
       "    }\n",
       "\n",
       "    .dataframe tbody tr th {\n",
       "        vertical-align: top;\n",
       "    }\n",
       "\n",
       "    .dataframe thead th {\n",
       "        text-align: right;\n",
       "    }\n",
       "</style>\n",
       "<table border=\"1\" class=\"dataframe\">\n",
       "  <thead>\n",
       "    <tr style=\"text-align: right;\">\n",
       "      <th></th>\n",
       "      <th>URL</th>\n",
       "      <th>Label</th>\n",
       "    </tr>\n",
       "  </thead>\n",
       "  <tbody>\n",
       "    <tr>\n",
       "      <th>0</th>\n",
       "      <td>nobell.it/70ffb52d079109dca5664cce6f317373782/...</td>\n",
       "      <td>bad</td>\n",
       "    </tr>\n",
       "    <tr>\n",
       "      <th>1</th>\n",
       "      <td>www.dghjdgf.com/paypal.co.uk/cycgi-bin/webscrc...</td>\n",
       "      <td>bad</td>\n",
       "    </tr>\n",
       "    <tr>\n",
       "      <th>2</th>\n",
       "      <td>serviciosbys.com/paypal.cgi.bin.get-into.herf....</td>\n",
       "      <td>bad</td>\n",
       "    </tr>\n",
       "    <tr>\n",
       "      <th>3</th>\n",
       "      <td>mail.printakid.com/www.online.americanexpress....</td>\n",
       "      <td>bad</td>\n",
       "    </tr>\n",
       "    <tr>\n",
       "      <th>4</th>\n",
       "      <td>thewhiskeydregs.com/wp-content/themes/widescre...</td>\n",
       "      <td>bad</td>\n",
       "    </tr>\n",
       "  </tbody>\n",
       "</table>\n",
       "</div>"
      ],
      "text/plain": [
       "                                                 URL Label\n",
       "0  nobell.it/70ffb52d079109dca5664cce6f317373782/...   bad\n",
       "1  www.dghjdgf.com/paypal.co.uk/cycgi-bin/webscrc...   bad\n",
       "2  serviciosbys.com/paypal.cgi.bin.get-into.herf....   bad\n",
       "3  mail.printakid.com/www.online.americanexpress....   bad\n",
       "4  thewhiskeydregs.com/wp-content/themes/widescre...   bad"
      ]
     },
     "execution_count": 4,
     "metadata": {},
     "output_type": "execute_result"
    }
   ],
   "source": [
    "phish_data.head()"
   ]
  },
  {
   "cell_type": "code",
   "execution_count": 5,
   "metadata": {},
   "outputs": [
    {
     "data": {
      "text/html": [
       "<div>\n",
       "<style scoped>\n",
       "    .dataframe tbody tr th:only-of-type {\n",
       "        vertical-align: middle;\n",
       "    }\n",
       "\n",
       "    .dataframe tbody tr th {\n",
       "        vertical-align: top;\n",
       "    }\n",
       "\n",
       "    .dataframe thead th {\n",
       "        text-align: right;\n",
       "    }\n",
       "</style>\n",
       "<table border=\"1\" class=\"dataframe\">\n",
       "  <thead>\n",
       "    <tr style=\"text-align: right;\">\n",
       "      <th></th>\n",
       "      <th>URL</th>\n",
       "      <th>Label</th>\n",
       "    </tr>\n",
       "  </thead>\n",
       "  <tbody>\n",
       "    <tr>\n",
       "      <th>549341</th>\n",
       "      <td>23.227.196.215/</td>\n",
       "      <td>bad</td>\n",
       "    </tr>\n",
       "    <tr>\n",
       "      <th>549342</th>\n",
       "      <td>apple-checker.org/</td>\n",
       "      <td>bad</td>\n",
       "    </tr>\n",
       "    <tr>\n",
       "      <th>549343</th>\n",
       "      <td>apple-iclods.org/</td>\n",
       "      <td>bad</td>\n",
       "    </tr>\n",
       "    <tr>\n",
       "      <th>549344</th>\n",
       "      <td>apple-uptoday.org/</td>\n",
       "      <td>bad</td>\n",
       "    </tr>\n",
       "    <tr>\n",
       "      <th>549345</th>\n",
       "      <td>apple-search.info</td>\n",
       "      <td>bad</td>\n",
       "    </tr>\n",
       "  </tbody>\n",
       "</table>\n",
       "</div>"
      ],
      "text/plain": [
       "                       URL Label\n",
       "549341     23.227.196.215/   bad\n",
       "549342  apple-checker.org/   bad\n",
       "549343   apple-iclods.org/   bad\n",
       "549344  apple-uptoday.org/   bad\n",
       "549345   apple-search.info   bad"
      ]
     },
     "execution_count": 5,
     "metadata": {},
     "output_type": "execute_result"
    }
   ],
   "source": [
    "phish_data.tail()"
   ]
  },
  {
   "cell_type": "code",
   "execution_count": 6,
   "metadata": {},
   "outputs": [
    {
     "name": "stdout",
     "output_type": "stream",
     "text": [
      "<class 'pandas.core.frame.DataFrame'>\n",
      "RangeIndex: 549346 entries, 0 to 549345\n",
      "Data columns (total 2 columns):\n",
      " #   Column  Non-Null Count   Dtype \n",
      "---  ------  --------------   ----- \n",
      " 0   URL     549346 non-null  object\n",
      " 1   Label   549346 non-null  object\n",
      "dtypes: object(2)\n",
      "memory usage: 8.4+ MB\n"
     ]
    }
   ],
   "source": [
    "phish_data.info()"
   ]
  },
  {
   "cell_type": "code",
   "execution_count": 7,
   "metadata": {},
   "outputs": [
    {
     "data": {
      "text/plain": [
       "URL      0\n",
       "Label    0\n",
       "dtype: int64"
      ]
     },
     "execution_count": 7,
     "metadata": {},
     "output_type": "execute_result"
    }
   ],
   "source": [
    "phish_data.isnull().sum()"
   ]
  },
  {
   "cell_type": "markdown",
   "metadata": {},
   "source": [
    "About the dataset: \n",
    "- dataset contains 549346 unique entries\n",
    "- there are two columns:\n",
    "    - URL column containing the website urls\n",
    "    - Label column containing website url categorisation; good (not a phishing site) or bad (is a phishing site)\n",
    "- there is no missing value in the dataset"
   ]
  },
  {
   "cell_type": "code",
   "execution_count": 8,
   "metadata": {},
   "outputs": [
    {
     "data": {
      "image/png": "[encoded data removed]",
      "text/plain": [
       "<Figure size 800x600 with 1 Axes>"
      ]
     },
     "metadata": {},
     "output_type": "display_data"
    }
   ],
   "source": [
    "# Count occurence of records for each category in Label column\n",
    "label_counts = phish_data['Label'].value_counts()\n",
    "\n",
    "# Plot the bar graph\n",
    "plt.figure(figsize=(8, 6))\n",
    "barplot = sns.barplot(x=label_counts.index, y=label_counts.values)\n",
    "\n",
    "# Add count values on top of each bar\n",
    "for i in range(len(label_counts)):\n",
    "    barplot.text(x=i, y=label_counts.values[i] + 0.1, s=label_counts.values[i], ha='center')\n",
    "\n",
    "# Add labels and title\n",
    "plt.xlabel('Label')\n",
    "plt.ylabel('Count')\n",
    "plt.title('Distribution of Records by Label')\n",
    "\n",
    "# Show the plot\n",
    "plt.show()"
   ]
  },
  {
   "cell_type": "markdown",
   "metadata": {},
   "source": [
    "### Data Preprocessing"
   ]
  },
  {
   "cell_type": "markdown",
   "metadata": {},
   "source": [
    "RegexpTokenizer\n",
    "- to extract the alphabet characters, disregarding the non-alphabetic characters from a link in the records in the dataset\n",
    "- purpose is to extract more features from the data, to classify the web urls as good or bad sites"
   ]
  },
  {
   "cell_type": "code",
   "execution_count": 9,
   "metadata": {},
   "outputs": [],
   "source": [
    "tokenizer = RegexpTokenizer(r'[A-Za-z]+')"
   ]
  },
  {
   "cell_type": "code",
   "execution_count": 10,
   "metadata": {},
   "outputs": [
    {
     "data": {
      "text/plain": [
       "'nobell.it/70ffb52d079109dca5664cce6f317373782/login.SkyPe.com/en/cgi-bin/verification/login/70ffb52d079109dca5664cce6f317373/index.php?cmd=_profile-ach&outdated_page_tmpl=p/gen/failed-to-load&nav=0.5.1&login_access=1322408526'"
      ]
     },
     "execution_count": 10,
     "metadata": {},
     "output_type": "execute_result"
    }
   ],
   "source": [
    "phish_data.URL[0]"
   ]
  },
  {
   "cell_type": "code",
   "execution_count": 11,
   "metadata": {},
   "outputs": [
    {
     "data": {
      "text/plain": [
       "['nobell',\n",
       " 'it',\n",
       " 'ffb',\n",
       " 'd',\n",
       " 'dca',\n",
       " 'cce',\n",
       " 'f',\n",
       " 'login',\n",
       " 'SkyPe',\n",
       " 'com',\n",
       " 'en',\n",
       " 'cgi',\n",
       " 'bin',\n",
       " 'verification',\n",
       " 'login',\n",
       " 'ffb',\n",
       " 'd',\n",
       " 'dca',\n",
       " 'cce',\n",
       " 'f',\n",
       " 'index',\n",
       " 'php',\n",
       " 'cmd',\n",
       " 'profile',\n",
       " 'ach',\n",
       " 'outdated',\n",
       " 'page',\n",
       " 'tmpl',\n",
       " 'p',\n",
       " 'gen',\n",
       " 'failed',\n",
       " 'to',\n",
       " 'load',\n",
       " 'nav',\n",
       " 'login',\n",
       " 'access']"
      ]
     },
     "execution_count": 11,
     "metadata": {},
     "output_type": "execute_result"
    }
   ],
   "source": [
    "# tokenize first URL\n",
    "tokenizer.tokenize(phish_data.URL[0])"
   ]
  },
  {
   "cell_type": "code",
   "execution_count": 12,
   "metadata": {},
   "outputs": [],
   "source": [
    "# Create a new column named 'text_tokenized' in the phish_data DataFrame\n",
    "# This column will store the tokens of alphabets extracted from the URLs\n",
    "phish_data['text_tokenized'] = (\n",
    "    # Apply a function to each URL in the 'URL' column\n",
    "    # The function tokenizes each URL using the declared tokenizer object\n",
    "    phish_data['URL'].map(lambda t: tokenizer.tokenize(t))\n",
    ")"
   ]
  },
  {
   "cell_type": "code",
   "execution_count": 13,
   "metadata": {},
   "outputs": [
    {
     "data": {
      "text/html": [
       "<div>\n",
       "<style scoped>\n",
       "    .dataframe tbody tr th:only-of-type {\n",
       "        vertical-align: middle;\n",
       "    }\n",
       "\n",
       "    .dataframe tbody tr th {\n",
       "        vertical-align: top;\n",
       "    }\n",
       "\n",
       "    .dataframe thead th {\n",
       "        text-align: right;\n",
       "    }\n",
       "</style>\n",
       "<table border=\"1\" class=\"dataframe\">\n",
       "  <thead>\n",
       "    <tr style=\"text-align: right;\">\n",
       "      <th></th>\n",
       "      <th>URL</th>\n",
       "      <th>Label</th>\n",
       "      <th>text_tokenized</th>\n",
       "    </tr>\n",
       "  </thead>\n",
       "  <tbody>\n",
       "    <tr>\n",
       "      <th>183311</th>\n",
       "      <td>encyclopedia2.thefreedictionary.com/xylograph</td>\n",
       "      <td>good</td>\n",
       "      <td>[encyclopedia, thefreedictionary, com, xylograph]</td>\n",
       "    </tr>\n",
       "    <tr>\n",
       "      <th>415492</th>\n",
       "      <td>politiquebec.com/forum/topic28911.html</td>\n",
       "      <td>good</td>\n",
       "      <td>[politiquebec, com, forum, topic, html]</td>\n",
       "    </tr>\n",
       "    <tr>\n",
       "      <th>146598</th>\n",
       "      <td>au.linkedin.com/pub/john-agar-cfa-frm/11/39a/928</td>\n",
       "      <td>good</td>\n",
       "      <td>[au, linkedin, com, pub, john, agar, cfa, frm, a]</td>\n",
       "    </tr>\n",
       "    <tr>\n",
       "      <th>51849</th>\n",
       "      <td>www.hexintoys.com/index.html</td>\n",
       "      <td>good</td>\n",
       "      <td>[www, hexintoys, com, index, html]</td>\n",
       "    </tr>\n",
       "    <tr>\n",
       "      <th>7759</th>\n",
       "      <td>theprivynews.net/angeln/paypal/</td>\n",
       "      <td>bad</td>\n",
       "      <td>[theprivynews, net, angeln, paypal]</td>\n",
       "    </tr>\n",
       "    <tr>\n",
       "      <th>206164</th>\n",
       "      <td>lakers.topbuzz.com/PNphpBB2-viewtopic-t-42788....</td>\n",
       "      <td>good</td>\n",
       "      <td>[lakers, topbuzz, com, PNphpBB, viewtopic, t, ...</td>\n",
       "    </tr>\n",
       "    <tr>\n",
       "      <th>507014</th>\n",
       "      <td>pwleoujlrrvpwehe.pl/message.php</td>\n",
       "      <td>bad</td>\n",
       "      <td>[pwleoujlrrvpwehe, pl, message, php]</td>\n",
       "    </tr>\n",
       "    <tr>\n",
       "      <th>289696</th>\n",
       "      <td>bdsmqueens.com/models/M/missy_monroe.html</td>\n",
       "      <td>good</td>\n",
       "      <td>[bdsmqueens, com, models, M, missy, monroe, html]</td>\n",
       "    </tr>\n",
       "    <tr>\n",
       "      <th>198590</th>\n",
       "      <td>howmanyofme.com/people/John_Hurt/</td>\n",
       "      <td>good</td>\n",
       "      <td>[howmanyofme, com, people, John, Hurt]</td>\n",
       "    </tr>\n",
       "    <tr>\n",
       "      <th>274115</th>\n",
       "      <td>amazon.com/Besnard-Lakes-Are-Roaring-Night/dp/...</td>\n",
       "      <td>good</td>\n",
       "      <td>[amazon, com, Besnard, Lakes, Are, Roaring, Ni...</td>\n",
       "    </tr>\n",
       "  </tbody>\n",
       "</table>\n",
       "</div>"
      ],
      "text/plain": [
       "                                                      URL Label  \\\n",
       "183311      encyclopedia2.thefreedictionary.com/xylograph  good   \n",
       "415492             politiquebec.com/forum/topic28911.html  good   \n",
       "146598   au.linkedin.com/pub/john-agar-cfa-frm/11/39a/928  good   \n",
       "51849                        www.hexintoys.com/index.html  good   \n",
       "7759                      theprivynews.net/angeln/paypal/   bad   \n",
       "206164  lakers.topbuzz.com/PNphpBB2-viewtopic-t-42788....  good   \n",
       "507014                    pwleoujlrrvpwehe.pl/message.php   bad   \n",
       "289696          bdsmqueens.com/models/M/missy_monroe.html  good   \n",
       "198590                  howmanyofme.com/people/John_Hurt/  good   \n",
       "274115  amazon.com/Besnard-Lakes-Are-Roaring-Night/dp/...  good   \n",
       "\n",
       "                                           text_tokenized  \n",
       "183311  [encyclopedia, thefreedictionary, com, xylograph]  \n",
       "415492            [politiquebec, com, forum, topic, html]  \n",
       "146598  [au, linkedin, com, pub, john, agar, cfa, frm, a]  \n",
       "51849                  [www, hexintoys, com, index, html]  \n",
       "7759                  [theprivynews, net, angeln, paypal]  \n",
       "206164  [lakers, topbuzz, com, PNphpBB, viewtopic, t, ...  \n",
       "507014               [pwleoujlrrvpwehe, pl, message, php]  \n",
       "289696  [bdsmqueens, com, models, M, missy, monroe, html]  \n",
       "198590             [howmanyofme, com, people, John, Hurt]  \n",
       "274115  [amazon, com, Besnard, Lakes, Are, Roaring, Ni...  "
      ]
     },
     "execution_count": 13,
     "metadata": {},
     "output_type": "execute_result"
    }
   ],
   "source": [
    "phish_data.sample(10)"
   ]
  },
  {
   "cell_type": "markdown",
   "metadata": {},
   "source": [
    "SnowballStemmer\n",
    "- is a stemming algorithm used for reducing words to their root or base form \n",
    "- it is applied after tokenization to further preprocess the text data, normalizing it so that we can better process the text\n"
   ]
  },
  {
   "cell_type": "code",
   "execution_count": 14,
   "metadata": {},
   "outputs": [],
   "source": [
    "stemmer = SnowballStemmer(\"english\")"
   ]
  },
  {
   "cell_type": "code",
   "execution_count": 15,
   "metadata": {},
   "outputs": [],
   "source": [
    "# Create a new column named 'text_stemmed' in the phish_data DataFrame\n",
    "# Applying stemming to the tokenized words in the 'text_tokenized' column\n",
    "phish_data['text_stemmed'] = (\n",
    "    phish_data['text_tokenized'].map(lambda s: \n",
    "        # Iterate over each word in the tokenized list\n",
    "        # and apply stemming using the SnowballStemmer object that we declared earlier\n",
    "        [stemmer.stem(word) for word in s]\n",
    "    )\n",
    ")"
   ]
  },
  {
   "cell_type": "code",
   "execution_count": 16,
   "metadata": {},
   "outputs": [
    {
     "data": {
      "text/html": [
       "<div>\n",
       "<style scoped>\n",
       "    .dataframe tbody tr th:only-of-type {\n",
       "        vertical-align: middle;\n",
       "    }\n",
       "\n",
       "    .dataframe tbody tr th {\n",
       "        vertical-align: top;\n",
       "    }\n",
       "\n",
       "    .dataframe thead th {\n",
       "        text-align: right;\n",
       "    }\n",
       "</style>\n",
       "<table border=\"1\" class=\"dataframe\">\n",
       "  <thead>\n",
       "    <tr style=\"text-align: right;\">\n",
       "      <th></th>\n",
       "      <th>URL</th>\n",
       "      <th>Label</th>\n",
       "      <th>text_tokenized</th>\n",
       "      <th>text_stemmed</th>\n",
       "    </tr>\n",
       "  </thead>\n",
       "  <tbody>\n",
       "    <tr>\n",
       "      <th>432861</th>\n",
       "      <td>snucampforchamps.com/</td>\n",
       "      <td>good</td>\n",
       "      <td>[snucampforchamps, com]</td>\n",
       "      <td>[snucampforchamp, com]</td>\n",
       "    </tr>\n",
       "    <tr>\n",
       "      <th>298285</th>\n",
       "      <td>canada411.ca/Quebec/Brossard/Abbott-to-Chung/C...</td>\n",
       "      <td>good</td>\n",
       "      <td>[canada, ca, Quebec, Brossard, Abbott, to, Chu...</td>\n",
       "      <td>[canada, ca, quebec, brossard, abbott, to, chu...</td>\n",
       "    </tr>\n",
       "    <tr>\n",
       "      <th>446670</th>\n",
       "      <td>theundergrowth.com/news.html</td>\n",
       "      <td>good</td>\n",
       "      <td>[theundergrowth, com, news, html]</td>\n",
       "      <td>[theundergrowth, com, news, html]</td>\n",
       "    </tr>\n",
       "    <tr>\n",
       "      <th>324193</th>\n",
       "      <td>evri.com/person/adrion-smith-0xa5c78</td>\n",
       "      <td>good</td>\n",
       "      <td>[evri, com, person, adrion, smith, xa, c]</td>\n",
       "      <td>[evri, com, person, adrion, smith, xa, c]</td>\n",
       "    </tr>\n",
       "    <tr>\n",
       "      <th>434867</th>\n",
       "      <td>speroforum.com/a/17483/Universal-Pictures-surp...</td>\n",
       "      <td>good</td>\n",
       "      <td>[speroforum, com, a, Universal, Pictures, surp...</td>\n",
       "      <td>[speroforum, com, a, univers, pictur, surpass,...</td>\n",
       "    </tr>\n",
       "    <tr>\n",
       "      <th>289872</th>\n",
       "      <td>bedfordshirefa.com/FixturesAndResults/CountyCu...</td>\n",
       "      <td>good</td>\n",
       "      <td>[bedfordshirefa, com, FixturesAndResults, Coun...</td>\n",
       "      <td>[bedfordshirefa, com, fixturesandresult, count...</td>\n",
       "    </tr>\n",
       "    <tr>\n",
       "      <th>91700</th>\n",
       "      <td>www.panix.com/~sos/bc/mysticwar.html</td>\n",
       "      <td>good</td>\n",
       "      <td>[www, panix, com, sos, bc, mysticwar, html]</td>\n",
       "      <td>[www, panix, com, sos, bc, mysticwar, html]</td>\n",
       "    </tr>\n",
       "    <tr>\n",
       "      <th>503589</th>\n",
       "      <td>aycilinsaat.com/vdG76VUY76rjnu/</td>\n",
       "      <td>bad</td>\n",
       "      <td>[aycilinsaat, com, vdG, VUY, rjnu]</td>\n",
       "      <td>[aycilinsaat, com, vdg, vuy, rjnu]</td>\n",
       "    </tr>\n",
       "    <tr>\n",
       "      <th>192986</th>\n",
       "      <td>genforum.genealogy.com/maddox/messages/2495.html</td>\n",
       "      <td>good</td>\n",
       "      <td>[genforum, genealogy, com, maddox, messages, h...</td>\n",
       "      <td>[genforum, genealog, com, maddox, messag, html]</td>\n",
       "    </tr>\n",
       "    <tr>\n",
       "      <th>189575</th>\n",
       "      <td>forums.canadian-tv.com/showthread.php?4006-Vid...</td>\n",
       "      <td>good</td>\n",
       "      <td>[forums, canadian, tv, com, showthread, php, V...</td>\n",
       "      <td>[forum, canadian, tv, com, showthread, php, vi...</td>\n",
       "    </tr>\n",
       "  </tbody>\n",
       "</table>\n",
       "</div>"
      ],
      "text/plain": [
       "                                                      URL Label  \\\n",
       "432861                              snucampforchamps.com/  good   \n",
       "298285  canada411.ca/Quebec/Brossard/Abbott-to-Chung/C...  good   \n",
       "446670                       theundergrowth.com/news.html  good   \n",
       "324193               evri.com/person/adrion-smith-0xa5c78  good   \n",
       "434867  speroforum.com/a/17483/Universal-Pictures-surp...  good   \n",
       "289872  bedfordshirefa.com/FixturesAndResults/CountyCu...  good   \n",
       "91700                www.panix.com/~sos/bc/mysticwar.html  good   \n",
       "503589                    aycilinsaat.com/vdG76VUY76rjnu/   bad   \n",
       "192986   genforum.genealogy.com/maddox/messages/2495.html  good   \n",
       "189575  forums.canadian-tv.com/showthread.php?4006-Vid...  good   \n",
       "\n",
       "                                           text_tokenized  \\\n",
       "432861                            [snucampforchamps, com]   \n",
       "298285  [canada, ca, Quebec, Brossard, Abbott, to, Chu...   \n",
       "446670                  [theundergrowth, com, news, html]   \n",
       "324193          [evri, com, person, adrion, smith, xa, c]   \n",
       "434867  [speroforum, com, a, Universal, Pictures, surp...   \n",
       "289872  [bedfordshirefa, com, FixturesAndResults, Coun...   \n",
       "91700         [www, panix, com, sos, bc, mysticwar, html]   \n",
       "503589                 [aycilinsaat, com, vdG, VUY, rjnu]   \n",
       "192986  [genforum, genealogy, com, maddox, messages, h...   \n",
       "189575  [forums, canadian, tv, com, showthread, php, V...   \n",
       "\n",
       "                                             text_stemmed  \n",
       "432861                             [snucampforchamp, com]  \n",
       "298285  [canada, ca, quebec, brossard, abbott, to, chu...  \n",
       "446670                  [theundergrowth, com, news, html]  \n",
       "324193          [evri, com, person, adrion, smith, xa, c]  \n",
       "434867  [speroforum, com, a, univers, pictur, surpass,...  \n",
       "289872  [bedfordshirefa, com, fixturesandresult, count...  \n",
       "91700         [www, panix, com, sos, bc, mysticwar, html]  \n",
       "503589                 [aycilinsaat, com, vdg, vuy, rjnu]  \n",
       "192986    [genforum, genealog, com, maddox, messag, html]  \n",
       "189575  [forum, canadian, tv, com, showthread, php, vi...  "
      ]
     },
     "execution_count": 16,
     "metadata": {},
     "output_type": "execute_result"
    }
   ],
   "source": [
    "phish_data.sample(10)"
   ]
  },
  {
   "cell_type": "markdown",
   "metadata": {},
   "source": [
    "We will combine the stemmed words into single strings by joining them together with spaces. It helps to simplify the representation of text data, and making it more suitable for analysis, visualisation, and modeling purposes."
   ]
  },
  {
   "cell_type": "code",
   "execution_count": 17,
   "metadata": {},
   "outputs": [],
   "source": [
    "# Create a new column named 'text_sent' in the DataFrame 'phish_data'\n",
    "phish_data['text_sent'] = (\n",
    "    phish_data['text_stemmed'].map(lambda j: \n",
    "        # Join the stemmed words in each list into a single string separated by spaces\n",
    "        ' '.join(j)\n",
    "    )\n",
    ")"
   ]
  },
  {
   "cell_type": "code",
   "execution_count": 18,
   "metadata": {},
   "outputs": [
    {
     "data": {
      "text/html": [
       "<div>\n",
       "<style scoped>\n",
       "    .dataframe tbody tr th:only-of-type {\n",
       "        vertical-align: middle;\n",
       "    }\n",
       "\n",
       "    .dataframe tbody tr th {\n",
       "        vertical-align: top;\n",
       "    }\n",
       "\n",
       "    .dataframe thead th {\n",
       "        text-align: right;\n",
       "    }\n",
       "</style>\n",
       "<table border=\"1\" class=\"dataframe\">\n",
       "  <thead>\n",
       "    <tr style=\"text-align: right;\">\n",
       "      <th></th>\n",
       "      <th>URL</th>\n",
       "      <th>Label</th>\n",
       "      <th>text_tokenized</th>\n",
       "      <th>text_stemmed</th>\n",
       "      <th>text_sent</th>\n",
       "    </tr>\n",
       "  </thead>\n",
       "  <tbody>\n",
       "    <tr>\n",
       "      <th>144917</th>\n",
       "      <td>articles.businessinsider.com/2011-06-27/wall_s...</td>\n",
       "      <td>good</td>\n",
       "      <td>[articles, businessinsider, com, wall, street,...</td>\n",
       "      <td>[articl, businessinsid, com, wall, street, gol...</td>\n",
       "      <td>articl businessinsid com wall street goldman s...</td>\n",
       "    </tr>\n",
       "    <tr>\n",
       "      <th>451878</th>\n",
       "      <td>trueknowledge.com/q/facts_about__connecticut_c...</td>\n",
       "      <td>good</td>\n",
       "      <td>[trueknowledge, com, q, facts, about, connecti...</td>\n",
       "      <td>[trueknowledg, com, q, fact, about, connecticu...</td>\n",
       "      <td>trueknowledg com q fact about connecticut coloni</td>\n",
       "    </tr>\n",
       "    <tr>\n",
       "      <th>387228</th>\n",
       "      <td>menuism.com/restaurants/charlie-orourkes-houst...</td>\n",
       "      <td>good</td>\n",
       "      <td>[menuism, com, restaurants, charlie, orourkes,...</td>\n",
       "      <td>[menuism, com, restaur, charli, orourk, houston]</td>\n",
       "      <td>menuism com restaur charli orourk houston</td>\n",
       "    </tr>\n",
       "    <tr>\n",
       "      <th>197135</th>\n",
       "      <td>historywarsweapons.com/history-of-england-jame...</td>\n",
       "      <td>good</td>\n",
       "      <td>[historywarsweapons, com, history, of, england...</td>\n",
       "      <td>[historywarsweapon, com, histori, of, england,...</td>\n",
       "      <td>historywarsweapon com histori of england jame ...</td>\n",
       "    </tr>\n",
       "    <tr>\n",
       "      <th>389576</th>\n",
       "      <td>minnesotafishingonline.com/lake_vermilion.html</td>\n",
       "      <td>good</td>\n",
       "      <td>[minnesotafishingonline, com, lake, vermilion,...</td>\n",
       "      <td>[minnesotafishingonlin, com, lake, vermilion, ...</td>\n",
       "      <td>minnesotafishingonlin com lake vermilion html</td>\n",
       "    </tr>\n",
       "    <tr>\n",
       "      <th>516500</th>\n",
       "      <td>bg1337.zapto.org:1155</td>\n",
       "      <td>bad</td>\n",
       "      <td>[bg, zapto, org]</td>\n",
       "      <td>[bg, zapto, org]</td>\n",
       "      <td>bg zapto org</td>\n",
       "    </tr>\n",
       "    <tr>\n",
       "      <th>198304</th>\n",
       "      <td>hotel-rhine-lorelei.com/</td>\n",
       "      <td>good</td>\n",
       "      <td>[hotel, rhine, lorelei, com]</td>\n",
       "      <td>[hotel, rhine, lorelei, com]</td>\n",
       "      <td>hotel rhine lorelei com</td>\n",
       "    </tr>\n",
       "    <tr>\n",
       "      <th>139353</th>\n",
       "      <td>61yardsale.com/</td>\n",
       "      <td>good</td>\n",
       "      <td>[yardsale, com]</td>\n",
       "      <td>[yardsal, com]</td>\n",
       "      <td>yardsal com</td>\n",
       "    </tr>\n",
       "    <tr>\n",
       "      <th>538390</th>\n",
       "      <td>dedivan.ru/index.php?categoryID=59</td>\n",
       "      <td>bad</td>\n",
       "      <td>[dedivan, ru, index, php, categoryID]</td>\n",
       "      <td>[dedivan, ru, index, php, categoryid]</td>\n",
       "      <td>dedivan ru index php categoryid</td>\n",
       "    </tr>\n",
       "    <tr>\n",
       "      <th>93149</th>\n",
       "      <td>www.angelfire.com/trek/georgewbush/</td>\n",
       "      <td>good</td>\n",
       "      <td>[www, angelfire, com, trek, georgewbush]</td>\n",
       "      <td>[www, angelfir, com, trek, georgewbush]</td>\n",
       "      <td>www angelfir com trek georgewbush</td>\n",
       "    </tr>\n",
       "  </tbody>\n",
       "</table>\n",
       "</div>"
      ],
      "text/plain": [
       "                                                      URL Label  \\\n",
       "144917  articles.businessinsider.com/2011-06-27/wall_s...  good   \n",
       "451878  trueknowledge.com/q/facts_about__connecticut_c...  good   \n",
       "387228  menuism.com/restaurants/charlie-orourkes-houst...  good   \n",
       "197135  historywarsweapons.com/history-of-england-jame...  good   \n",
       "389576     minnesotafishingonline.com/lake_vermilion.html  good   \n",
       "516500                              bg1337.zapto.org:1155   bad   \n",
       "198304                           hotel-rhine-lorelei.com/  good   \n",
       "139353                                    61yardsale.com/  good   \n",
       "538390                 dedivan.ru/index.php?categoryID=59   bad   \n",
       "93149                 www.angelfire.com/trek/georgewbush/  good   \n",
       "\n",
       "                                           text_tokenized  \\\n",
       "144917  [articles, businessinsider, com, wall, street,...   \n",
       "451878  [trueknowledge, com, q, facts, about, connecti...   \n",
       "387228  [menuism, com, restaurants, charlie, orourkes,...   \n",
       "197135  [historywarsweapons, com, history, of, england...   \n",
       "389576  [minnesotafishingonline, com, lake, vermilion,...   \n",
       "516500                                   [bg, zapto, org]   \n",
       "198304                       [hotel, rhine, lorelei, com]   \n",
       "139353                                    [yardsale, com]   \n",
       "538390              [dedivan, ru, index, php, categoryID]   \n",
       "93149            [www, angelfire, com, trek, georgewbush]   \n",
       "\n",
       "                                             text_stemmed  \\\n",
       "144917  [articl, businessinsid, com, wall, street, gol...   \n",
       "451878  [trueknowledg, com, q, fact, about, connecticu...   \n",
       "387228   [menuism, com, restaur, charli, orourk, houston]   \n",
       "197135  [historywarsweapon, com, histori, of, england,...   \n",
       "389576  [minnesotafishingonlin, com, lake, vermilion, ...   \n",
       "516500                                   [bg, zapto, org]   \n",
       "198304                       [hotel, rhine, lorelei, com]   \n",
       "139353                                     [yardsal, com]   \n",
       "538390              [dedivan, ru, index, php, categoryid]   \n",
       "93149             [www, angelfir, com, trek, georgewbush]   \n",
       "\n",
       "                                                text_sent  \n",
       "144917  articl businessinsid com wall street goldman s...  \n",
       "451878   trueknowledg com q fact about connecticut coloni  \n",
       "387228          menuism com restaur charli orourk houston  \n",
       "197135  historywarsweapon com histori of england jame ...  \n",
       "389576      minnesotafishingonlin com lake vermilion html  \n",
       "516500                                       bg zapto org  \n",
       "198304                            hotel rhine lorelei com  \n",
       "139353                                        yardsal com  \n",
       "538390                    dedivan ru index php categoryid  \n",
       "93149                   www angelfir com trek georgewbush  "
      ]
     },
     "execution_count": 18,
     "metadata": {},
     "output_type": "execute_result"
    }
   ],
   "source": [
    "phish_data.sample(10)"
   ]
  },
  {
   "cell_type": "markdown",
   "metadata": {},
   "source": [
    "### Visualisation"
   ]
  }
 ],
 "metadata": {
  "kernelspec": {
   "display_name": "base",
   "language": "python",
   "name": "python3"
  },
  "language_info": {
   "codemirror_mode": {
    "name": "ipython",
    "version": 3
   },
   "file_extension": ".py",
   "mimetype": "text/x-python",
   "name": "python",
   "nbconvert_exporter": "python",
   "pygments_lexer": "ipython3",
   "version": "3.11.7"
  }
 },
 "nbformat": 4,
 "nbformat_minor": 2
}
