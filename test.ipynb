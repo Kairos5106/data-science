{
 "cells": [
  {
   "cell_type": "markdown",
   "metadata": {},
   "source": [
    "# Phishing Site Predictor"
   ]
  },
  {
   "cell_type": "markdown",
   "metadata": {},
   "source": [
    "The increasing use of the Internet has led to a new way of stealing data, known as cybercrime. Cybercrime refers to stealing private information and violating privacy through computers. The primary technique used is phishing. \n",
    "\n",
    "Phishing attacks are fraudulent emails, text message, phone calls, or websites that are designed to trick users into actions like downloading malware, sharing sensitive information or personal data, or any other actions that expose themselves or their organisations to cybercrime.\n",
    "\n",
    "This work aims to provide a solution for detecting potential phishing website links with the help of machine learning algorithms focused on the behaviors and qualities of the suggested URL."
   ]
  },
  {
   "cell_type": "markdown",
   "metadata": {},
   "source": [
    "### Import Libraries"
   ]
  },
  {
   "cell_type": "code",
   "execution_count": 1,
   "metadata": {},
   "outputs": [],
   "source": [
    "import pandas as pd # use for data manipulation and analysis\n",
    "import numpy as np # use for multi-dimensional array and matrix\n",
    "import seaborn as sns # use for high-level interface for drawing attractive and informative statistical graphics\n",
    "import matplotlib.pyplot as plt # provide object-oriented API for embedding plots into applications\n",
    "%matplotlib inline\n",
    "\n",
    "from nltk.tokenize import RegexpTokenizer\n",
    "from nltk.stem.snowball import SnowballStemmer\n",
    "\n",
    "from PIL import Image\n",
    "from wordcloud import WordCloud, STOPWORDS, ImageColorGenerator\n",
    "from bs4 import BeautifulSoup\n",
    "from selenium import webdriver\n",
    "import networkx as nx"
   ]
  },
  {
   "cell_type": "markdown",
   "metadata": {},
   "source": [
    "## O: OBTAIN"
   ]
  },
  {
   "cell_type": "markdown",
   "metadata": {},
   "source": [
    "### Loading Dataset"
   ]
  },
  {
   "cell_type": "code",
   "execution_count": 2,
   "metadata": {},
   "outputs": [],
   "source": [
    "phish_data = pd.read_csv('phishing_site_urls.csv')"
   ]
  },
  {
   "cell_type": "markdown",
   "metadata": {},
   "source": [
    "### Getting to Know the Data"
   ]
  },
  {
   "cell_type": "code",
   "execution_count": 3,
   "metadata": {},
   "outputs": [
    {
     "data": {
      "text/html": [
       "<div>\n",
       "<style scoped>\n",
       "    .dataframe tbody tr th:only-of-type {\n",
       "        vertical-align: middle;\n",
       "    }\n",
       "\n",
       "    .dataframe tbody tr th {\n",
       "        vertical-align: top;\n",
       "    }\n",
       "\n",
       "    .dataframe thead th {\n",
       "        text-align: right;\n",
       "    }\n",
       "</style>\n",
       "<table border=\"1\" class=\"dataframe\">\n",
       "  <thead>\n",
       "    <tr style=\"text-align: right;\">\n",
       "      <th></th>\n",
       "      <th>URL</th>\n",
       "      <th>Label</th>\n",
       "    </tr>\n",
       "  </thead>\n",
       "  <tbody>\n",
       "    <tr>\n",
       "      <th>0</th>\n",
       "      <td>nobell.it/70ffb52d079109dca5664cce6f317373782/...</td>\n",
       "      <td>bad</td>\n",
       "    </tr>\n",
       "    <tr>\n",
       "      <th>1</th>\n",
       "      <td>www.dghjdgf.com/paypal.co.uk/cycgi-bin/webscrc...</td>\n",
       "      <td>bad</td>\n",
       "    </tr>\n",
       "    <tr>\n",
       "      <th>2</th>\n",
       "      <td>serviciosbys.com/paypal.cgi.bin.get-into.herf....</td>\n",
       "      <td>bad</td>\n",
       "    </tr>\n",
       "    <tr>\n",
       "      <th>3</th>\n",
       "      <td>mail.printakid.com/www.online.americanexpress....</td>\n",
       "      <td>bad</td>\n",
       "    </tr>\n",
       "    <tr>\n",
       "      <th>4</th>\n",
       "      <td>thewhiskeydregs.com/wp-content/themes/widescre...</td>\n",
       "      <td>bad</td>\n",
       "    </tr>\n",
       "  </tbody>\n",
       "</table>\n",
       "</div>"
      ],
      "text/plain": [
       "                                                 URL Label\n",
       "0  nobell.it/70ffb52d079109dca5664cce6f317373782/...   bad\n",
       "1  www.dghjdgf.com/paypal.co.uk/cycgi-bin/webscrc...   bad\n",
       "2  serviciosbys.com/paypal.cgi.bin.get-into.herf....   bad\n",
       "3  mail.printakid.com/www.online.americanexpress....   bad\n",
       "4  thewhiskeydregs.com/wp-content/themes/widescre...   bad"
      ]
     },
     "execution_count": 3,
     "metadata": {},
     "output_type": "execute_result"
    }
   ],
   "source": [
    "phish_data.head()"
   ]
  },
  {
   "cell_type": "code",
   "execution_count": 4,
   "metadata": {},
   "outputs": [
    {
     "data": {
      "text/html": [
       "<div>\n",
       "<style scoped>\n",
       "    .dataframe tbody tr th:only-of-type {\n",
       "        vertical-align: middle;\n",
       "    }\n",
       "\n",
       "    .dataframe tbody tr th {\n",
       "        vertical-align: top;\n",
       "    }\n",
       "\n",
       "    .dataframe thead th {\n",
       "        text-align: right;\n",
       "    }\n",
       "</style>\n",
       "<table border=\"1\" class=\"dataframe\">\n",
       "  <thead>\n",
       "    <tr style=\"text-align: right;\">\n",
       "      <th></th>\n",
       "      <th>URL</th>\n",
       "      <th>Label</th>\n",
       "    </tr>\n",
       "  </thead>\n",
       "  <tbody>\n",
       "    <tr>\n",
       "      <th>549341</th>\n",
       "      <td>23.227.196.215/</td>\n",
       "      <td>bad</td>\n",
       "    </tr>\n",
       "    <tr>\n",
       "      <th>549342</th>\n",
       "      <td>apple-checker.org/</td>\n",
       "      <td>bad</td>\n",
       "    </tr>\n",
       "    <tr>\n",
       "      <th>549343</th>\n",
       "      <td>apple-iclods.org/</td>\n",
       "      <td>bad</td>\n",
       "    </tr>\n",
       "    <tr>\n",
       "      <th>549344</th>\n",
       "      <td>apple-uptoday.org/</td>\n",
       "      <td>bad</td>\n",
       "    </tr>\n",
       "    <tr>\n",
       "      <th>549345</th>\n",
       "      <td>apple-search.info</td>\n",
       "      <td>bad</td>\n",
       "    </tr>\n",
       "  </tbody>\n",
       "</table>\n",
       "</div>"
      ],
      "text/plain": [
       "                       URL Label\n",
       "549341     23.227.196.215/   bad\n",
       "549342  apple-checker.org/   bad\n",
       "549343   apple-iclods.org/   bad\n",
       "549344  apple-uptoday.org/   bad\n",
       "549345   apple-search.info   bad"
      ]
     },
     "execution_count": 4,
     "metadata": {},
     "output_type": "execute_result"
    }
   ],
   "source": [
    "phish_data.tail()"
   ]
  },
  {
   "cell_type": "code",
   "execution_count": 5,
   "metadata": {},
   "outputs": [
    {
     "name": "stdout",
     "output_type": "stream",
     "text": [
      "<class 'pandas.core.frame.DataFrame'>\n",
      "RangeIndex: 549346 entries, 0 to 549345\n",
      "Data columns (total 2 columns):\n",
      " #   Column  Non-Null Count   Dtype \n",
      "---  ------  --------------   ----- \n",
      " 0   URL     549346 non-null  object\n",
      " 1   Label   549346 non-null  object\n",
      "dtypes: object(2)\n",
      "memory usage: 8.4+ MB\n"
     ]
    }
   ],
   "source": [
    "phish_data.info()"
   ]
  },
  {
   "cell_type": "markdown",
   "metadata": {},
   "source": [
    "About the dataset: \n",
    "- dataset contains 549,346 unique entries\n",
    "- there are two columns:\n",
    "    - URL column containing the website urls\n",
    "    - Label column containing website url categorisation: good (not a phishing site link) or bad (is a phishing site link)"
   ]
  },
  {
   "cell_type": "code",
   "execution_count": 6,
   "metadata": {},
   "outputs": [
    {
     "data": {
      "image/png": "[encoded data removed]",
      "text/plain": [
       "<Figure size 800x600 with 1 Axes>"
      ]
     },
     "metadata": {},
     "output_type": "display_data"
    }
   ],
   "source": [
    "# Count occurence of records for each category in Label column\n",
    "label_counts = phish_data['Label'].value_counts()\n",
    "\n",
    "# Plot the bar graph\n",
    "plt.figure(figsize=(8, 6))\n",
    "barplot = sns.barplot(x=label_counts.index, y=label_counts.values, hue=label_counts.index, palette='bright', legend=False)\n",
    "\n",
    "# Add count values on top of each bar with corresponding color\n",
    "for i, (index, value) in enumerate(label_counts.items()):\n",
    "    barplot.text(x=i, y=value + 0.1, s=value, ha='center', color='black')\n",
    "\n",
    "# Add labels and title\n",
    "plt.xlabel('Label')\n",
    "plt.ylabel('Count')\n",
    "plt.title('Distribution of Records by Label')\n",
    "\n",
    "# Show the plot\n",
    "plt.show()"
   ]
  },
  {
   "cell_type": "markdown",
   "metadata": {},
   "source": [
    "## S: SCRUB"
   ]
  },
  {
   "cell_type": "markdown",
   "metadata": {},
   "source": [
    "### Missing Values"
   ]
  },
  {
   "cell_type": "code",
   "execution_count": 7,
   "metadata": {},
   "outputs": [
    {
     "data": {
      "text/plain": [
       "URL      0\n",
       "Label    0\n",
       "dtype: int64"
      ]
     },
     "execution_count": 7,
     "metadata": {},
     "output_type": "execute_result"
    }
   ],
   "source": [
    "phish_data.isnull().sum()"
   ]
  },
  {
   "cell_type": "markdown",
   "metadata": {},
   "source": [
    "- There is no missing value in the dataset"
   ]
  },
  {
   "cell_type": "markdown",
   "metadata": {},
   "source": [
    "### Unifying Labels / Fixing Up Formats"
   ]
  },
  {
   "cell_type": "code",
   "execution_count": 8,
   "metadata": {},
   "outputs": [
    {
     "data": {
      "text/html": [
       "<div>\n",
       "<style scoped>\n",
       "    .dataframe tbody tr th:only-of-type {\n",
       "        vertical-align: middle;\n",
       "    }\n",
       "\n",
       "    .dataframe tbody tr th {\n",
       "        vertical-align: top;\n",
       "    }\n",
       "\n",
       "    .dataframe thead th {\n",
       "        text-align: right;\n",
       "    }\n",
       "</style>\n",
       "<table border=\"1\" class=\"dataframe\">\n",
       "  <thead>\n",
       "    <tr style=\"text-align: right;\">\n",
       "      <th></th>\n",
       "      <th>URL</th>\n",
       "      <th>Label</th>\n",
       "    </tr>\n",
       "  </thead>\n",
       "  <tbody>\n",
       "    <tr>\n",
       "      <th>365024</th>\n",
       "      <td>jellyyarns.com/kits.html</td>\n",
       "      <td>good</td>\n",
       "    </tr>\n",
       "    <tr>\n",
       "      <th>383444</th>\n",
       "      <td>manta.com/c/mms5th9/east-oakland-fruitvale-pla...</td>\n",
       "      <td>good</td>\n",
       "    </tr>\n",
       "    <tr>\n",
       "      <th>389386</th>\n",
       "      <td>militaryspot.com/strategyfirst.htm</td>\n",
       "      <td>good</td>\n",
       "    </tr>\n",
       "    <tr>\n",
       "      <th>139547</th>\n",
       "      <td>aaron0884.tripod.com/</td>\n",
       "      <td>good</td>\n",
       "    </tr>\n",
       "    <tr>\n",
       "      <th>449052</th>\n",
       "      <td>torontosun.com/sports/football/2010/06/04/1426...</td>\n",
       "      <td>good</td>\n",
       "    </tr>\n",
       "    <tr>\n",
       "      <th>120271</th>\n",
       "      <td>liquimeca.com/jojoboi67/CLICK/index.php.htm</td>\n",
       "      <td>bad</td>\n",
       "    </tr>\n",
       "    <tr>\n",
       "      <th>543179</th>\n",
       "      <td>dowfrecap.net/6f9tho</td>\n",
       "      <td>bad</td>\n",
       "    </tr>\n",
       "    <tr>\n",
       "      <th>354989</th>\n",
       "      <td>househunt.com/MO/Kansas_City_-_North_of_the_Ri...</td>\n",
       "      <td>good</td>\n",
       "    </tr>\n",
       "    <tr>\n",
       "      <th>124207</th>\n",
       "      <td>boileri-matev.com/image/data2/dhl/DHL-SHIPPING...</td>\n",
       "      <td>bad</td>\n",
       "    </tr>\n",
       "    <tr>\n",
       "      <th>457700</th>\n",
       "      <td>v-twinforum.com/forums/religion-politics/11602...</td>\n",
       "      <td>good</td>\n",
       "    </tr>\n",
       "    <tr>\n",
       "      <th>277620</th>\n",
       "      <td>amazon.com/Ugly-Ego-Cameo/dp/B00009028Z</td>\n",
       "      <td>good</td>\n",
       "    </tr>\n",
       "    <tr>\n",
       "      <th>191524</th>\n",
       "      <td>fundrace.huffingtonpost.com/neighbors.php?type...</td>\n",
       "      <td>good</td>\n",
       "    </tr>\n",
       "    <tr>\n",
       "      <th>476862</th>\n",
       "      <td>youtube.com/watch?v=kHajarYalZE</td>\n",
       "      <td>good</td>\n",
       "    </tr>\n",
       "    <tr>\n",
       "      <th>158640</th>\n",
       "      <td>citizendia.org/Louisville_Cardinals_men's_bask...</td>\n",
       "      <td>good</td>\n",
       "    </tr>\n",
       "    <tr>\n",
       "      <th>168322</th>\n",
       "      <td>elections.nytimes.com/2010/governor/illinois</td>\n",
       "      <td>good</td>\n",
       "    </tr>\n",
       "    <tr>\n",
       "      <th>100385</th>\n",
       "      <td>june1st.net/photos/goods/201609/thumb_b/SANTAN...</td>\n",
       "      <td>bad</td>\n",
       "    </tr>\n",
       "    <tr>\n",
       "      <th>285858</th>\n",
       "      <td>austinkleon.com/tag/julie-doucet/</td>\n",
       "      <td>good</td>\n",
       "    </tr>\n",
       "    <tr>\n",
       "      <th>350409</th>\n",
       "      <td>healthgrades.com/physician/dr-joseph-daigneaul...</td>\n",
       "      <td>good</td>\n",
       "    </tr>\n",
       "    <tr>\n",
       "      <th>372284</th>\n",
       "      <td>legacy.com/obituaries/democratandchronicle/obi...</td>\n",
       "      <td>good</td>\n",
       "    </tr>\n",
       "    <tr>\n",
       "      <th>265331</th>\n",
       "      <td>1upproductions.com/</td>\n",
       "      <td>good</td>\n",
       "    </tr>\n",
       "  </tbody>\n",
       "</table>\n",
       "</div>"
      ],
      "text/plain": [
       "                                                      URL Label\n",
       "365024                           jellyyarns.com/kits.html  good\n",
       "383444  manta.com/c/mms5th9/east-oakland-fruitvale-pla...  good\n",
       "389386                 militaryspot.com/strategyfirst.htm  good\n",
       "139547                              aaron0884.tripod.com/  good\n",
       "449052  torontosun.com/sports/football/2010/06/04/1426...  good\n",
       "120271        liquimeca.com/jojoboi67/CLICK/index.php.htm   bad\n",
       "543179                               dowfrecap.net/6f9tho   bad\n",
       "354989  househunt.com/MO/Kansas_City_-_North_of_the_Ri...  good\n",
       "124207  boileri-matev.com/image/data2/dhl/DHL-SHIPPING...   bad\n",
       "457700  v-twinforum.com/forums/religion-politics/11602...  good\n",
       "277620            amazon.com/Ugly-Ego-Cameo/dp/B00009028Z  good\n",
       "191524  fundrace.huffingtonpost.com/neighbors.php?type...  good\n",
       "476862                    youtube.com/watch?v=kHajarYalZE  good\n",
       "158640  citizendia.org/Louisville_Cardinals_men's_bask...  good\n",
       "168322       elections.nytimes.com/2010/governor/illinois  good\n",
       "100385  june1st.net/photos/goods/201609/thumb_b/SANTAN...   bad\n",
       "285858                  austinkleon.com/tag/julie-doucet/  good\n",
       "350409  healthgrades.com/physician/dr-joseph-daigneaul...  good\n",
       "372284  legacy.com/obituaries/democratandchronicle/obi...  good\n",
       "265331                                1upproductions.com/  good"
      ]
     },
     "execution_count": 8,
     "metadata": {},
     "output_type": "execute_result"
    }
   ],
   "source": [
    "phish_data.sample(20)"
   ]
  },
  {
   "cell_type": "markdown",
   "metadata": {},
   "source": [
    "- All records for column \"Label\" are having the same representation which is in string format \"good\" or \"bad\" that categorises the url "
   ]
  },
  {
   "cell_type": "markdown",
   "metadata": {},
   "source": [
    "### Duplicate Records"
   ]
  },
  {
   "cell_type": "code",
   "execution_count": 9,
   "metadata": {},
   "outputs": [
    {
     "name": "stdout",
     "output_type": "stream",
     "text": [
      "Duplicate rows based on all columns:\n",
      "                                                      URL Label\n",
      "35413                              bin/webscr?cmd=_login-   bad\n",
      "45184   'www.allegropl.xaa.pl/enter_login.html?session...   bad\n",
      "96132                       stormpages.com/script/PHP.txt   bad\n",
      "96449          penwithian.co.uk/hyperventilate/sporran.js   bad\n",
      "96480                            ukonline.hc0.me/Host.exe   bad\n",
      "...                                                   ...   ...\n",
      "549341                                    23.227.196.215/   bad\n",
      "549342                                 apple-checker.org/   bad\n",
      "549343                                  apple-iclods.org/   bad\n",
      "549344                                 apple-uptoday.org/   bad\n",
      "549345                                  apple-search.info   bad\n",
      "\n",
      "[42150 rows x 2 columns]\n"
     ]
    }
   ],
   "source": [
    "# Check for duplicate records based on all columns\n",
    "duplicate_rows = phish_data[phish_data.duplicated()]\n",
    "\n",
    "# Print the duplicate rows\n",
    "print(\"Duplicate rows based on all columns:\")\n",
    "print(duplicate_rows)"
   ]
  },
  {
   "cell_type": "code",
   "execution_count": 10,
   "metadata": {},
   "outputs": [],
   "source": [
    "# Remove duplicate rows\n",
    "phish_data = phish_data.drop_duplicates()"
   ]
  },
  {
   "cell_type": "code",
   "execution_count": 11,
   "metadata": {},
   "outputs": [
    {
     "data": {
      "text/html": [
       "<div>\n",
       "<style scoped>\n",
       "    .dataframe tbody tr th:only-of-type {\n",
       "        vertical-align: middle;\n",
       "    }\n",
       "\n",
       "    .dataframe tbody tr th {\n",
       "        vertical-align: top;\n",
       "    }\n",
       "\n",
       "    .dataframe thead th {\n",
       "        text-align: right;\n",
       "    }\n",
       "</style>\n",
       "<table border=\"1\" class=\"dataframe\">\n",
       "  <thead>\n",
       "    <tr style=\"text-align: right;\">\n",
       "      <th></th>\n",
       "      <th>URL</th>\n",
       "      <th>Label</th>\n",
       "    </tr>\n",
       "  </thead>\n",
       "  <tbody>\n",
       "    <tr>\n",
       "      <th>0</th>\n",
       "      <td>nobell.it/70ffb52d079109dca5664cce6f317373782/...</td>\n",
       "      <td>bad</td>\n",
       "    </tr>\n",
       "    <tr>\n",
       "      <th>1</th>\n",
       "      <td>www.dghjdgf.com/paypal.co.uk/cycgi-bin/webscrc...</td>\n",
       "      <td>bad</td>\n",
       "    </tr>\n",
       "    <tr>\n",
       "      <th>2</th>\n",
       "      <td>serviciosbys.com/paypal.cgi.bin.get-into.herf....</td>\n",
       "      <td>bad</td>\n",
       "    </tr>\n",
       "    <tr>\n",
       "      <th>3</th>\n",
       "      <td>mail.printakid.com/www.online.americanexpress....</td>\n",
       "      <td>bad</td>\n",
       "    </tr>\n",
       "    <tr>\n",
       "      <th>4</th>\n",
       "      <td>thewhiskeydregs.com/wp-content/themes/widescre...</td>\n",
       "      <td>bad</td>\n",
       "    </tr>\n",
       "    <tr>\n",
       "      <th>...</th>\n",
       "      <td>...</td>\n",
       "      <td>...</td>\n",
       "    </tr>\n",
       "    <tr>\n",
       "      <th>516466</th>\n",
       "      <td>23.227.196.215/</td>\n",
       "      <td>bad</td>\n",
       "    </tr>\n",
       "    <tr>\n",
       "      <th>516467</th>\n",
       "      <td>apple-checker.org/</td>\n",
       "      <td>bad</td>\n",
       "    </tr>\n",
       "    <tr>\n",
       "      <th>516468</th>\n",
       "      <td>apple-iclods.org/</td>\n",
       "      <td>bad</td>\n",
       "    </tr>\n",
       "    <tr>\n",
       "      <th>516469</th>\n",
       "      <td>apple-uptoday.org/</td>\n",
       "      <td>bad</td>\n",
       "    </tr>\n",
       "    <tr>\n",
       "      <th>516470</th>\n",
       "      <td>apple-search.info</td>\n",
       "      <td>bad</td>\n",
       "    </tr>\n",
       "  </tbody>\n",
       "</table>\n",
       "<p>507196 rows × 2 columns</p>\n",
       "</div>"
      ],
      "text/plain": [
       "                                                      URL Label\n",
       "0       nobell.it/70ffb52d079109dca5664cce6f317373782/...   bad\n",
       "1       www.dghjdgf.com/paypal.co.uk/cycgi-bin/webscrc...   bad\n",
       "2       serviciosbys.com/paypal.cgi.bin.get-into.herf....   bad\n",
       "3       mail.printakid.com/www.online.americanexpress....   bad\n",
       "4       thewhiskeydregs.com/wp-content/themes/widescre...   bad\n",
       "...                                                   ...   ...\n",
       "516466                                    23.227.196.215/   bad\n",
       "516467                                 apple-checker.org/   bad\n",
       "516468                                  apple-iclods.org/   bad\n",
       "516469                                 apple-uptoday.org/   bad\n",
       "516470                                  apple-search.info   bad\n",
       "\n",
       "[507196 rows x 2 columns]"
      ]
     },
     "execution_count": 11,
     "metadata": {},
     "output_type": "execute_result"
    }
   ],
   "source": [
    "phish_data"
   ]
  },
  {
   "cell_type": "code",
   "execution_count": 12,
   "metadata": {},
   "outputs": [
    {
     "name": "stdout",
     "output_type": "stream",
     "text": [
      "Duplicate rows based on all columns:\n",
      "Empty DataFrame\n",
      "Columns: [URL, Label]\n",
      "Index: []\n"
     ]
    }
   ],
   "source": [
    "# Recheck for duplicate records based on all columns\n",
    "duplicate_rows = phish_data[phish_data.duplicated()]\n",
    "\n",
    "# Print the duplicate rows\n",
    "print(\"Duplicate rows based on all columns:\")\n",
    "print(duplicate_rows)"
   ]
  },
  {
   "cell_type": "markdown",
   "metadata": {},
   "source": [
    "- We have successfully removed the unwanted observations from the dataset which are the duplicate records"
   ]
  },
  {
   "cell_type": "markdown",
   "metadata": {},
   "source": [
    "### Transforming Variables"
   ]
  },
  {
   "cell_type": "markdown",
   "metadata": {},
   "source": [
    "RegexpTokenizer\n",
    "- to extract the alphabet characters, disregarding the non-alphabetic characters from a link in the records in the dataset\n",
    "- purpose is to extract more features from the data, to classify the web urls as good or bad sites"
   ]
  },
  {
   "cell_type": "code",
   "execution_count": null,
   "metadata": {},
   "outputs": [],
   "source": [
    "tokenizer = RegexpTokenizer(r'[A-Za-z]+')"
   ]
  },
  {
   "cell_type": "code",
   "execution_count": null,
   "metadata": {},
   "outputs": [],
   "source": [
    "phish_data.URL[0]"
   ]
  },
  {
   "cell_type": "code",
   "execution_count": null,
   "metadata": {},
   "outputs": [],
   "source": [
    "# tokenize the first URL\n",
    "tokenizer.tokenize(phish_data.URL[0])"
   ]
  },
  {
   "cell_type": "code",
   "execution_count": null,
   "metadata": {},
   "outputs": [],
   "source": [
    "# We will tokenize all the rows\n",
    "# Create a new column named 'text_tokenized' in the phish_data DataFrame\n",
    "# This column will store the tokens of alphabets extracted from the URLs\n",
    "phish_data['text_tokenized'] = (\n",
    "    # Apply a function to each URL in the 'URL' column\n",
    "    # The function tokenizes each URL using the declared tokenizer object\n",
    "    phish_data['URL'].map(lambda t: tokenizer.tokenize(t))\n",
    ")"
   ]
  },
  {
   "cell_type": "code",
   "execution_count": null,
   "metadata": {},
   "outputs": [],
   "source": [
    "phish_data.sample(5)"
   ]
  },
  {
   "cell_type": "markdown",
   "metadata": {},
   "source": [
    "SnowballStemmer\n",
    "- is a stemming algorithm used for reducing words to their root or base form (get the root words)\n",
    "- it is applied after tokenization to further preprocess the text data, normalizing it so that we can better process the text\n"
   ]
  },
  {
   "cell_type": "code",
   "execution_count": null,
   "metadata": {},
   "outputs": [],
   "source": [
    "stemmer = SnowballStemmer(\"english\")"
   ]
  },
  {
   "cell_type": "code",
   "execution_count": null,
   "metadata": {},
   "outputs": [],
   "source": [
    "# Stemming all the rows\n",
    "# Create a new column named 'text_stemmed' in the phish_data DataFrame\n",
    "# Applying stemming to the tokenized words in the 'text_tokenized' column\n",
    "phish_data['text_stemmed'] = (\n",
    "    phish_data['text_tokenized'].map(lambda s: \n",
    "        # Iterate over each word in the tokenized list\n",
    "        # and apply stemming using the SnowballStemmer object that we declared earlier\n",
    "        [stemmer.stem(word) for word in s]\n",
    "    )\n",
    ")"
   ]
  },
  {
   "cell_type": "code",
   "execution_count": null,
   "metadata": {},
   "outputs": [],
   "source": [
    "phish_data.sample(5)"
   ]
  },
  {
   "cell_type": "markdown",
   "metadata": {},
   "source": [
    "We will combine the stemmed words into single strings by joining them together with spaces. It helps to simplify the representation of text data, and making it more suitable for analysis, visualisation, and modeling purposes."
   ]
  },
  {
   "cell_type": "code",
   "execution_count": null,
   "metadata": {},
   "outputs": [],
   "source": [
    "# Create a new column named 'text_sent' in the DataFrame 'phish_data'\n",
    "phish_data['text_sent'] = (\n",
    "    phish_data['text_stemmed'].map(lambda j: \n",
    "        # Join the stemmed words in each list into a single string separated by spaces\n",
    "        ' '.join(j)\n",
    "    )\n",
    ")"
   ]
  },
  {
   "cell_type": "code",
   "execution_count": null,
   "metadata": {},
   "outputs": [],
   "source": [
    "phish_data.sample(5)"
   ]
  },
  {
   "cell_type": "markdown",
   "metadata": {},
   "source": [
    "End Goal of Data Cleaning Stage:\n",
    "- Each variable is in one column\n",
    "- Each observation is in one row\n",
    "- The topmost row is containing the variable names"
   ]
  },
  {
   "cell_type": "markdown",
   "metadata": {},
   "source": [
    "### Data Visualisation"
   ]
  },
  {
   "cell_type": "code",
   "execution_count": null,
   "metadata": {},
   "outputs": [],
   "source": [
    "# Separate the data frame into bad and good urls\n",
    "bad_sites = phish_data[phish_data.Label == 'bad']\n",
    "good_sites = phish_data[phish_data.Label == 'good']"
   ]
  },
  {
   "cell_type": "code",
   "execution_count": null,
   "metadata": {},
   "outputs": [],
   "source": [
    "bad_sites.head()"
   ]
  },
  {
   "cell_type": "code",
   "execution_count": null,
   "metadata": {},
   "outputs": [],
   "source": [
    "good_sites.head()"
   ]
  },
  {
   "cell_type": "markdown",
   "metadata": {},
   "source": [
    "We will visualise the most common words that appear for bad and good sites respectively"
   ]
  },
  {
   "cell_type": "code",
   "execution_count": null,
   "metadata": {},
   "outputs": [],
   "source": [
    "from collections import Counter\n",
    "def plot_wordcloud(text, title):\n",
    "    # Generate word frequency counts\n",
    "    word_freq = Counter(text.split())\n",
    "    \n",
    "    # Exclude default stopwords and additional stopwords\n",
    "    stopwords = set(STOPWORDS).union({'com', 'http'})\n",
    "    for stopword in stopwords:\n",
    "        word_freq.pop(stopword, None)\n",
    "    \n",
    "    # Filter out the most common words (up to 400 words)\n",
    "    common_words = dict(word_freq.most_common(400))\n",
    "    \n",
    "    # Generate word cloud\n",
    "    wordcloud = WordCloud(width=800, height=400, background_color='white').generate_from_frequencies(common_words)\n",
    "    \n",
    "    # Plot word cloud\n",
    "    plt.figure(figsize=(10, 5))\n",
    "    plt.imshow(wordcloud, interpolation='bilinear')\n",
    "    plt.title(title)\n",
    "    plt.axis('off')\n",
    "    plt.show()\n",
    "\n",
    "# Convert text data for bad and good sites into single strings\n",
    "bad_text = ' '.join(bad_sites['text_sent'])\n",
    "good_text = ' '.join(good_sites['text_sent'])"
   ]
  },
  {
   "cell_type": "code",
   "execution_count": null,
   "metadata": {},
   "outputs": [],
   "source": [
    "# Plot word cloud for bad sites\n",
    "plot_wordcloud(bad_text, title='Word Cloud for Bad Sites')"
   ]
  },
  {
   "cell_type": "code",
   "execution_count": null,
   "metadata": {},
   "outputs": [],
   "source": [
    "# Plot word cloud for good sites\n",
    "plot_wordcloud(good_text, title='Word Cloud for Good Sites')"
   ]
  },
  {
   "cell_type": "markdown",
   "metadata": {},
   "source": [
    "## E: EXPLORE"
   ]
  },
  {
   "cell_type": "markdown",
   "metadata": {},
   "source": [
    "### Exploratory Data Analysis"
   ]
  },
  {
   "cell_type": "code",
   "execution_count": null,
   "metadata": {},
   "outputs": [],
   "source": [
    "# visualize the frequency of top level domains (TLDs) for good vs bad URLs\n",
    "top_tlds_phish = bad_sites['URL'].apply(lambda x: x.split('.')[-1])\n",
    "top_tlds_good = good_sites['URL'].apply(lambda x: x.split('.')[-1])"
   ]
  },
  {
   "cell_type": "code",
   "execution_count": null,
   "metadata": {},
   "outputs": [],
   "source": [
    "# plot histogram of good vs bad TLDs\n",
    "plt.figure(figsize=(10, 6))\n",
    "sns.countplot(y=top_tlds_phish, order=top_tlds_phish.value_counts().index[:10], color='red', alpha=0.7, label='Phishing')\n",
    "sns.countplot(y=top_tlds_good, order=top_tlds_good.value_counts().index[:10], color='blue', alpha=0.7, label='Legitimate')\n",
    "\n",
    "plt.title('Top 10 TLDs for Phishing and Legitimate URLs')\n",
    "plt.xlabel('Frequency')\n",
    "plt.ylabel('Top-Level Domain (TLD)')\n",
    "plt.legend()\n",
    "plt.show()"
   ]
  },
  {
   "cell_type": "code",
   "execution_count": null,
   "metadata": {},
   "outputs": [],
   "source": [
    "# statistical Analysis\n",
    "# calculate the mean URL length for phishing and legit URLs\n",
    "mean_url_length_phishing = bad_sites['URL'].apply(len).mean()\n",
    "mean_url_length_legitimate = good_sites['URL'].apply(len).mean()\n",
    "\n",
    "print(\"Mean URL length (phishing):\", mean_url_length_phishing)\n",
    "print(\"Mean URL length (legitimate):\", mean_url_length_legitimate)"
   ]
  },
  {
   "cell_type": "code",
   "execution_count": null,
   "metadata": {},
   "outputs": [],
   "source": [
    "# further statistical explaination\n",
    "url_length_stats = phish_data.groupby('Label')['URL'].apply(lambda x: x.str.len().describe())\n",
    "print(\"URL Length Statistics:\")\n",
    "print(url_length_stats)"
   ]
  },
  {
   "cell_type": "code",
   "execution_count": null,
   "metadata": {},
   "outputs": [],
   "source": [
    "# function to count the frequency of keywords in URLs\n",
    "def count_keywords(urls, keyword):\n",
    "    return sum(url.count(keyword) for url in urls)\n",
    "\n",
    "# keywords of interest (change whenever necessary)\n",
    "keywords = ['login', 'bank', 'search', 'secure', 'account']\n",
    "\n",
    "# count keyword frequencies in good and bad sites\n",
    "keyword_counts_good = {keyword: count_keywords(good_sites['URL'], keyword) for keyword in keywords}\n",
    "keyword_counts_bad = {keyword: count_keywords(bad_sites['URL'], keyword) for keyword in keywords}\n",
    "\n",
    "# plot bar chart\n",
    "plt.figure(figsize=(10, 6))\n",
    "plt.bar(keyword_counts_good.keys(), keyword_counts_good.values(), color='green', alpha=0.7, label='Good Sites')\n",
    "plt.bar(keyword_counts_bad.keys(), keyword_counts_bad.values(), color='yellow', alpha=0.7, label='Bad Sites')\n",
    "plt.title('Keyword Frequency in Good and Bad Sites')\n",
    "plt.xlabel('Keyword')\n",
    "plt.ylabel('Frequency')\n",
    "plt.legend()\n",
    "plt.show()"
   ]
  }
 ],
 "metadata": {
  "kernelspec": {
   "display_name": "base",
   "language": "python",
   "name": "python3"
  },
  "language_info": {
   "codemirror_mode": {
    "name": "ipython",
    "version": 3
   },
   "file_extension": ".py",
   "mimetype": "text/x-python",
   "name": "python",
   "nbconvert_exporter": "python",
   "pygments_lexer": "ipython3",
   "version": "3.12.3"
  }
 },
 "nbformat": 4,
 "nbformat_minor": 2
}
